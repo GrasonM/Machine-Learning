{
 "cells": [
  {
   "cell_type": "code",
   "execution_count": 1,
   "id": "f4a02277",
   "metadata": {},
   "outputs": [
    {
     "name": "stdout",
     "output_type": "stream",
     "text": [
      "Collecting FlaskNote: you may need to restart the kernel to use updated packages.\n",
      "  Downloading Flask-2.1.2-py3-none-any.whl (95 kB)\n",
      "     ---------------------------------------- 95.2/95.2 KB 5.3 MB/s eta 0:00:00\n",
      "Collecting psycopg2-binary\n",
      "  Downloading psycopg2_binary-2.9.3-cp310-cp310-win_amd64.whl (1.2 MB)\n",
      "     ---------------------------------------- 1.2/1.2 MB 18.4 MB/s eta 0:00:00\n",
      "Requirement already satisfied: Werkzeug>=2.0 in c:\\users\\graso\\anaconda3\\envs\\geo_env\\lib\\site-packages (from Flask) (2.0.3)\n",
      "Collecting itsdangerous>=2.0\n",
      "  Downloading itsdangerous-2.1.2-py3-none-any.whl (15 kB)\n",
      "Requirement already satisfied: click>=8.0 in c:\\users\\graso\\anaconda3\\envs\\geo_env\\lib\\site-packages (from Flask) (8.0.4)\n",
      "Requirement already satisfied: Jinja2>=3.0 in c:\\users\\graso\\anaconda3\\envs\\geo_env\\lib\\site-packages (from Flask) (3.0.3)\n",
      "Requirement already satisfied: colorama in c:\\users\\graso\\anaconda3\\envs\\geo_env\\lib\\site-packages (from click>=8.0->Flask) (0.4.4)\n",
      "Requirement already satisfied: MarkupSafe>=2.0 in c:\\users\\graso\\anaconda3\\envs\\geo_env\\lib\\site-packages (from Jinja2>=3.0->Flask) (2.1.1)\n",
      "Installing collected packages: psycopg2-binary, itsdangerous, Flask\n",
      "Successfully installed Flask-2.1.2 itsdangerous-2.1.2 psycopg2-binary-2.9.3\n",
      "\n"
     ]
    }
   ],
   "source": [
    "pip install Flask psycopg2-binary"
   ]
  },
  {
   "cell_type": "code",
   "execution_count": 3,
   "id": "d65e4063",
   "metadata": {},
   "outputs": [
    {
     "name": "stderr",
     "output_type": "stream",
     "text": [
      " * Running on http://localhost:9000/ (Press CTRL+C to quit)\n",
      "127.0.0.1 - - [30/May/2022 20:07:23] \"GET / HTTP/1.1\" 200 -\n",
      "127.0.0.1 - - [30/May/2022 20:07:25] \"GET / HTTP/1.1\" 200 -\n",
      "127.0.0.1 - - [30/May/2022 20:07:29] \"GET / HTTP/1.1\" 200 -\n",
      "127.0.0.1 - - [30/May/2022 20:07:31] \"GET / HTTP/1.1\" 200 -\n"
     ]
    }
   ],
   "source": [
    "from werkzeug.wrappers import Request, Response\n",
    "import psycopg2\n",
    "from flask import Flask, render_template\n",
    "\n",
    "app = Flask(__name__,template_folder='templates')\n",
    "\n",
    "def get_db_connection():\n",
    "    conn = psycopg2.connect(host=\"localhost\", database=\"TradingAlgo\", user=\"postgres\", password=\"Qpwoeiruty10!=\", port = '5432')\n",
    "    return conn\n",
    "\n",
    "\n",
    "@app.route('/')\n",
    "def index():\n",
    "    conn = get_db_connection()\n",
    "    cur = conn.cursor()\n",
    "    cur.execute('SELECT * FROM PriceHistory;')\n",
    "    Price = cur.fetchall()\n",
    "    cur.close()\n",
    "    conn.close()\n",
    "    return render_template('index.html', Price=Price)\n",
    "\n",
    "if __name__ == '__main__':\n",
    "    from werkzeug.serving import run_simple\n",
    "    run_simple('localhost', 9000, app)"
   ]
  },
  {
   "cell_type": "code",
   "execution_count": null,
   "id": "4f7106c6",
   "metadata": {},
   "outputs": [],
   "source": []
  }
 ],
 "metadata": {
  "kernelspec": {
   "display_name": "Python 3 (ipykernel)",
   "language": "python",
   "name": "python3"
  },
  "language_info": {
   "codemirror_mode": {
    "name": "ipython",
    "version": 3
   },
   "file_extension": ".py",
   "mimetype": "text/x-python",
   "name": "python",
   "nbconvert_exporter": "python",
   "pygments_lexer": "ipython3",
   "version": "3.10.2"
  }
 },
 "nbformat": 4,
 "nbformat_minor": 5
}
