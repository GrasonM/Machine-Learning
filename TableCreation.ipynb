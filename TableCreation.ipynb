{
 "cells": [
  {
   "cell_type": "code",
   "execution_count": null,
   "id": "edcc88eb",
   "metadata": {},
   "outputs": [],
   "source": [
    "import psycopg2\n",
    "\n",
    "def create_tables():\n",
    "    \"\"\" create tables in the PostgreSQL database\"\"\"\n",
    "    commands = (\n",
    "        \"\"\"\n",
    "        CREATE TABLE PriceHistory (\n",
    "            ID SERIAL PRIMARY KEY,\n",
    "            Price VARCHAR(255) NOT NULL,\n",
    "            DVChange VARCHAR(255) NOT NULL,\n",
    "            PercentageChange VARCHAR(255) NOT NULL,\n",
    "            Date VARCHAR(255) NOT NULL\n",
    "        )\n",
    "        \"\"\",\n",
    "        \"\"\" CREATE TABLE Statistics (\n",
    "                ID SERIAL PRIMARY KEY,\n",
    "                Previous_Close VARCHAR(255) NOT NULL,\n",
    "                Open VARCHAR(255) NOT NULL,\n",
    "                Bid VARCHAR(255) NOT NULL,\n",
    "                Ask VARCHAR(255) NOT NULL,\n",
    "                Days_Range VARCHAR(255) NOT NULL,\n",
    "                Years_Range VARCHAR(255) NOT NULL,\n",
    "                Volume VARCHAR(255) NOT NULL,\n",
    "                Avg_Volume VARCHAR(255) NOT NULL,\n",
    "                Market_Cap VARCHAR(255) NOT NULL,\n",
    "                Beta_5y_Monthly VARCHAR(255) NOT NULL,\n",
    "                PE_Ratio_TTM VARCHAR(255) NOT NULL,\n",
    "                EPS_TTM VARCHAR(255) NOT NULL,\n",
    "                Earnings_Date VARCHAR(255) NOT NULL,\n",
    "                Forward_Div_Yield VARCHAR(255) NOT NULL,\n",
    "                Ex_Div VARCHAR(255) NOT NULL,\n",
    "                Year_Target VARCHAR(255) NOT NULL\n",
    "                )\n",
    "        \"\"\")\n",
    "    conn = None\n",
    "    try:\n",
    "        conn = psycopg2.connect(host=\"localhost\", database=\"TradingAlgo\", user=\"postgres\", password=\"sheeesh\", port = '5432')\n",
    "        cur = conn.cursor()\n",
    "        # create table one by one\n",
    "        for command in commands:\n",
    "            cur.execute(command)\n",
    "        # close communication with the PostgreSQL database server\n",
    "        cur.close()\n",
    "        # commit the changes\n",
    "        conn.commit()\n",
    "    except (Exception, psycopg2.DatabaseError) as error:\n",
    "        print(error)\n",
    "    finally:\n",
    "        if conn is not None:\n",
    "            conn.close()\n",
    "\n",
    "\n",
    "if __name__ == '__main__':\n",
    "    create_tables()"
   ]
  },
  {
   "cell_type": "code",
   "execution_count": 6,
   "id": "058f9f7e",
   "metadata": {},
   "outputs": [
    {
     "name": "stdout",
     "output_type": "stream",
     "text": [
      "('public', 'pricehistory')\n",
      "('public', 'statistics')\n"
     ]
    }
   ],
   "source": [
    "import psycopg2\n",
    "\n",
    "s = \"\"\n",
    "s += \"SELECT\"\n",
    "s += \" table_schema\"\n",
    "s += \", table_name\"\n",
    "s += \" FROM information_schema.tables\"\n",
    "s += \" WHERE\"\n",
    "s += \" (\"\n",
    "s += \" table_schema = 'public'\"\n",
    "s += \" )\"\n",
    "s += \" ORDER BY table_schema, table_name;\"\n",
    "\n",
    "conn = psycopg2.connect(host=\"localhost\", database=\"TradingAlgo\", user=\"postgres\", password=\"Sheeeeesh\", port = '5432')\n",
    "cur = conn.cursor()\n",
    "\n",
    "cur.execute(s)\n",
    "list_tables = cur.fetchall()\n",
    "\n",
    "for t_name_table in list_tables:\n",
    "    print(t_name_table)\n",
    "    \n",
    "conn.close()"
   ]
  },
  {
   "cell_type": "code",
   "execution_count": null,
   "id": "7e3f4824",
   "metadata": {},
   "outputs": [],
   "source": []
  }
 ],
 "metadata": {
  "kernelspec": {
   "display_name": "Python 3 (ipykernel)",
   "language": "python",
   "name": "python3"
  },
  "language_info": {
   "codemirror_mode": {
    "name": "ipython",
    "version": 3
   },
   "file_extension": ".py",
   "mimetype": "text/x-python",
   "name": "python",
   "nbconvert_exporter": "python",
   "pygments_lexer": "ipython3",
   "version": "3.10.2"
  }
 },
 "nbformat": 4,
 "nbformat_minor": 5
}
